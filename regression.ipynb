{
 "cells": [
  {
   "cell_type": "markdown",
   "metadata": {},
   "source": [
    "# Lab 13 - Linear Regression\n",
    "\n",
    "## Kassie Bradshaw 07-17-2021\n",
    "\n",
    "## My Data Set: Female Employment vs. Socioeconomic Factors\n",
    "\n",
    "My hypothesis is that over the past 25 years, as the rate of women employed increases - the rate of women in agricultural jobs will decrease.\n"
   ]
  },
  {
   "cell_type": "markdown",
   "metadata": {},
   "source": [
    "# Notebook Imports\n"
   ]
  },
  {
   "cell_type": "code",
   "execution_count": 96,
   "metadata": {},
   "outputs": [],
   "source": [
    "import pandas as pd\n",
    "import matplotlib.pyplot as plt\n",
    "from sklearn.linear_model import LinearRegression\n",
    "from sklearn.model_selection import train_test_split"
   ]
  },
  {
   "cell_type": "markdown",
   "metadata": {},
   "source": [
    "# Import the Data into a Pandas DataFrame\n"
   ]
  },
  {
   "cell_type": "code",
   "execution_count": 97,
   "metadata": {},
   "outputs": [],
   "source": [
    "df = pd.read_csv('MLR2.csv')"
   ]
  },
  {
   "cell_type": "markdown",
   "metadata": {},
   "source": [
    "# Show the description and info of the Data Set\n"
   ]
  },
  {
   "cell_type": "code",
   "execution_count": 98,
   "metadata": {},
   "outputs": [
    {
     "data": {
      "text/html": [
       "<div>\n",
       "<style scoped>\n",
       "    .dataframe tbody tr th:only-of-type {\n",
       "        vertical-align: middle;\n",
       "    }\n",
       "\n",
       "    .dataframe tbody tr th {\n",
       "        vertical-align: top;\n",
       "    }\n",
       "\n",
       "    .dataframe thead th {\n",
       "        text-align: right;\n",
       "    }\n",
       "</style>\n",
       "<table border=\"1\" class=\"dataframe\">\n",
       "  <thead>\n",
       "    <tr style=\"text-align: right;\">\n",
       "      <th></th>\n",
       "      <th>PerFemEmploy</th>\n",
       "      <th>FertilityRate</th>\n",
       "      <th>RatioMaletoFemale</th>\n",
       "      <th>PerFemEmployers</th>\n",
       "      <th>Agriculture</th>\n",
       "      <th>Industry</th>\n",
       "      <th>Services</th>\n",
       "      <th>Wage&amp;Salaried</th>\n",
       "      <th>ContrFamWorkers</th>\n",
       "      <th>OwnAccount</th>\n",
       "      <th>Vulnerable</th>\n",
       "    </tr>\n",
       "  </thead>\n",
       "  <tbody>\n",
       "    <tr>\n",
       "      <th>0</th>\n",
       "      <td>24.30</td>\n",
       "      <td>3.71</td>\n",
       "      <td>28.33</td>\n",
       "      <td>0.1</td>\n",
       "      <td>84.79</td>\n",
       "      <td>7.66</td>\n",
       "      <td>7.56</td>\n",
       "      <td>18.03</td>\n",
       "      <td>66.80</td>\n",
       "      <td>15.07</td>\n",
       "      <td>81.87</td>\n",
       "    </tr>\n",
       "    <tr>\n",
       "      <th>1</th>\n",
       "      <td>24.57</td>\n",
       "      <td>3.59</td>\n",
       "      <td>28.72</td>\n",
       "      <td>0.1</td>\n",
       "      <td>82.28</td>\n",
       "      <td>7.46</td>\n",
       "      <td>10.27</td>\n",
       "      <td>18.38</td>\n",
       "      <td>66.39</td>\n",
       "      <td>15.14</td>\n",
       "      <td>81.52</td>\n",
       "    </tr>\n",
       "    <tr>\n",
       "      <th>2</th>\n",
       "      <td>24.82</td>\n",
       "      <td>3.48</td>\n",
       "      <td>29.18</td>\n",
       "      <td>0.1</td>\n",
       "      <td>81.19</td>\n",
       "      <td>7.57</td>\n",
       "      <td>11.24</td>\n",
       "      <td>18.74</td>\n",
       "      <td>65.95</td>\n",
       "      <td>15.21</td>\n",
       "      <td>81.16</td>\n",
       "    </tr>\n",
       "    <tr>\n",
       "      <th>3</th>\n",
       "      <td>25.11</td>\n",
       "      <td>3.37</td>\n",
       "      <td>29.67</td>\n",
       "      <td>0.1</td>\n",
       "      <td>80.28</td>\n",
       "      <td>7.77</td>\n",
       "      <td>11.95</td>\n",
       "      <td>19.11</td>\n",
       "      <td>65.53</td>\n",
       "      <td>15.26</td>\n",
       "      <td>80.79</td>\n",
       "    </tr>\n",
       "    <tr>\n",
       "      <th>4</th>\n",
       "      <td>25.38</td>\n",
       "      <td>3.27</td>\n",
       "      <td>30.17</td>\n",
       "      <td>0.1</td>\n",
       "      <td>79.52</td>\n",
       "      <td>8.12</td>\n",
       "      <td>12.36</td>\n",
       "      <td>19.50</td>\n",
       "      <td>65.01</td>\n",
       "      <td>15.39</td>\n",
       "      <td>80.40</td>\n",
       "    </tr>\n",
       "  </tbody>\n",
       "</table>\n",
       "</div>"
      ],
      "text/plain": [
       "   PerFemEmploy  FertilityRate  RatioMaletoFemale  PerFemEmployers  \\\n",
       "0         24.30           3.71              28.33              0.1   \n",
       "1         24.57           3.59              28.72              0.1   \n",
       "2         24.82           3.48              29.18              0.1   \n",
       "3         25.11           3.37              29.67              0.1   \n",
       "4         25.38           3.27              30.17              0.1   \n",
       "\n",
       "   Agriculture  Industry  Services  Wage&Salaried  ContrFamWorkers  \\\n",
       "0        84.79      7.66      7.56          18.03            66.80   \n",
       "1        82.28      7.46     10.27          18.38            66.39   \n",
       "2        81.19      7.57     11.24          18.74            65.95   \n",
       "3        80.28      7.77     11.95          19.11            65.53   \n",
       "4        79.52      8.12     12.36          19.50            65.01   \n",
       "\n",
       "   OwnAccount  Vulnerable  \n",
       "0       15.07       81.87  \n",
       "1       15.14       81.52  \n",
       "2       15.21       81.16  \n",
       "3       15.26       80.79  \n",
       "4       15.39       80.40  "
      ]
     },
     "execution_count": 98,
     "metadata": {},
     "output_type": "execute_result"
    }
   ],
   "source": [
    "df.head()"
   ]
  },
  {
   "cell_type": "code",
   "execution_count": 99,
   "metadata": {},
   "outputs": [
    {
     "data": {
      "text/html": [
       "<div>\n",
       "<style scoped>\n",
       "    .dataframe tbody tr th:only-of-type {\n",
       "        vertical-align: middle;\n",
       "    }\n",
       "\n",
       "    .dataframe tbody tr th {\n",
       "        vertical-align: top;\n",
       "    }\n",
       "\n",
       "    .dataframe thead th {\n",
       "        text-align: right;\n",
       "    }\n",
       "</style>\n",
       "<table border=\"1\" class=\"dataframe\">\n",
       "  <thead>\n",
       "    <tr style=\"text-align: right;\">\n",
       "      <th></th>\n",
       "      <th>PerFemEmploy</th>\n",
       "      <th>FertilityRate</th>\n",
       "      <th>RatioMaletoFemale</th>\n",
       "      <th>PerFemEmployers</th>\n",
       "      <th>Agriculture</th>\n",
       "      <th>Industry</th>\n",
       "      <th>Services</th>\n",
       "      <th>Wage&amp;Salaried</th>\n",
       "      <th>ContrFamWorkers</th>\n",
       "      <th>OwnAccount</th>\n",
       "      <th>Vulnerable</th>\n",
       "    </tr>\n",
       "  </thead>\n",
       "  <tbody>\n",
       "    <tr>\n",
       "      <th>20</th>\n",
       "      <td>29.96</td>\n",
       "      <td>2.12</td>\n",
       "      <td>40.29</td>\n",
       "      <td>0.23</td>\n",
       "      <td>63.86</td>\n",
       "      <td>15.41</td>\n",
       "      <td>20.73</td>\n",
       "      <td>25.74</td>\n",
       "      <td>43.38</td>\n",
       "      <td>30.65</td>\n",
       "      <td>74.03</td>\n",
       "    </tr>\n",
       "    <tr>\n",
       "      <th>21</th>\n",
       "      <td>30.47</td>\n",
       "      <td>2.09</td>\n",
       "      <td>41.21</td>\n",
       "      <td>0.37</td>\n",
       "      <td>63.38</td>\n",
       "      <td>15.94</td>\n",
       "      <td>20.68</td>\n",
       "      <td>28.09</td>\n",
       "      <td>39.06</td>\n",
       "      <td>32.49</td>\n",
       "      <td>71.54</td>\n",
       "    </tr>\n",
       "    <tr>\n",
       "      <th>22</th>\n",
       "      <td>33.44</td>\n",
       "      <td>2.06</td>\n",
       "      <td>44.04</td>\n",
       "      <td>0.63</td>\n",
       "      <td>59.84</td>\n",
       "      <td>16.78</td>\n",
       "      <td>23.38</td>\n",
       "      <td>31.17</td>\n",
       "      <td>29.79</td>\n",
       "      <td>38.41</td>\n",
       "      <td>68.20</td>\n",
       "    </tr>\n",
       "    <tr>\n",
       "      <th>23</th>\n",
       "      <td>33.65</td>\n",
       "      <td>NaN</td>\n",
       "      <td>44.27</td>\n",
       "      <td>0.65</td>\n",
       "      <td>59.43</td>\n",
       "      <td>16.74</td>\n",
       "      <td>23.83</td>\n",
       "      <td>31.89</td>\n",
       "      <td>28.89</td>\n",
       "      <td>38.58</td>\n",
       "      <td>67.47</td>\n",
       "    </tr>\n",
       "    <tr>\n",
       "      <th>24</th>\n",
       "      <td>33.82</td>\n",
       "      <td>NaN</td>\n",
       "      <td>44.50</td>\n",
       "      <td>0.66</td>\n",
       "      <td>59.03</td>\n",
       "      <td>16.70</td>\n",
       "      <td>24.27</td>\n",
       "      <td>32.61</td>\n",
       "      <td>27.99</td>\n",
       "      <td>38.74</td>\n",
       "      <td>66.73</td>\n",
       "    </tr>\n",
       "  </tbody>\n",
       "</table>\n",
       "</div>"
      ],
      "text/plain": [
       "    PerFemEmploy  FertilityRate  RatioMaletoFemale  PerFemEmployers  \\\n",
       "20         29.96           2.12              40.29             0.23   \n",
       "21         30.47           2.09              41.21             0.37   \n",
       "22         33.44           2.06              44.04             0.63   \n",
       "23         33.65            NaN              44.27             0.65   \n",
       "24         33.82            NaN              44.50             0.66   \n",
       "\n",
       "    Agriculture  Industry  Services  Wage&Salaried  ContrFamWorkers  \\\n",
       "20        63.86     15.41     20.73          25.74            43.38   \n",
       "21        63.38     15.94     20.68          28.09            39.06   \n",
       "22        59.84     16.78     23.38          31.17            29.79   \n",
       "23        59.43     16.74     23.83          31.89            28.89   \n",
       "24        59.03     16.70     24.27          32.61            27.99   \n",
       "\n",
       "    OwnAccount  Vulnerable  \n",
       "20       30.65       74.03  \n",
       "21       32.49       71.54  \n",
       "22       38.41       68.20  \n",
       "23       38.58       67.47  \n",
       "24       38.74       66.73  "
      ]
     },
     "execution_count": 99,
     "metadata": {},
     "output_type": "execute_result"
    }
   ],
   "source": [
    "df.tail()"
   ]
  },
  {
   "cell_type": "code",
   "execution_count": 100,
   "metadata": {},
   "outputs": [
    {
     "data": {
      "text/html": [
       "<div>\n",
       "<style scoped>\n",
       "    .dataframe tbody tr th:only-of-type {\n",
       "        vertical-align: middle;\n",
       "    }\n",
       "\n",
       "    .dataframe tbody tr th {\n",
       "        vertical-align: top;\n",
       "    }\n",
       "\n",
       "    .dataframe thead th {\n",
       "        text-align: right;\n",
       "    }\n",
       "</style>\n",
       "<table border=\"1\" class=\"dataframe\">\n",
       "  <thead>\n",
       "    <tr style=\"text-align: right;\">\n",
       "      <th></th>\n",
       "      <th>PerFemEmploy</th>\n",
       "      <th>FertilityRate</th>\n",
       "      <th>RatioMaletoFemale</th>\n",
       "      <th>PerFemEmployers</th>\n",
       "      <th>Agriculture</th>\n",
       "      <th>Industry</th>\n",
       "      <th>Services</th>\n",
       "      <th>Wage&amp;Salaried</th>\n",
       "      <th>ContrFamWorkers</th>\n",
       "      <th>OwnAccount</th>\n",
       "      <th>Vulnerable</th>\n",
       "    </tr>\n",
       "  </thead>\n",
       "  <tbody>\n",
       "    <tr>\n",
       "      <th>count</th>\n",
       "      <td>25.000000</td>\n",
       "      <td>23.000000</td>\n",
       "      <td>25.000000</td>\n",
       "      <td>25.000000</td>\n",
       "      <td>25.000000</td>\n",
       "      <td>25.000000</td>\n",
       "      <td>25.000000</td>\n",
       "      <td>25.000000</td>\n",
       "      <td>25.00000</td>\n",
       "      <td>25.000000</td>\n",
       "      <td>25.000000</td>\n",
       "    </tr>\n",
       "    <tr>\n",
       "      <th>mean</th>\n",
       "      <td>27.680800</td>\n",
       "      <td>2.711304</td>\n",
       "      <td>34.947600</td>\n",
       "      <td>0.196400</td>\n",
       "      <td>70.272400</td>\n",
       "      <td>12.018800</td>\n",
       "      <td>17.710400</td>\n",
       "      <td>21.965200</td>\n",
       "      <td>55.87240</td>\n",
       "      <td>21.968800</td>\n",
       "      <td>77.840400</td>\n",
       "    </tr>\n",
       "    <tr>\n",
       "      <th>std</th>\n",
       "      <td>2.842613</td>\n",
       "      <td>0.526535</td>\n",
       "      <td>5.068672</td>\n",
       "      <td>0.179325</td>\n",
       "      <td>7.795071</td>\n",
       "      <td>3.171068</td>\n",
       "      <td>4.709609</td>\n",
       "      <td>4.512734</td>\n",
       "      <td>12.38072</td>\n",
       "      <td>8.237512</td>\n",
       "      <td>4.674583</td>\n",
       "    </tr>\n",
       "    <tr>\n",
       "      <th>min</th>\n",
       "      <td>24.300000</td>\n",
       "      <td>2.060000</td>\n",
       "      <td>28.330000</td>\n",
       "      <td>0.090000</td>\n",
       "      <td>59.030000</td>\n",
       "      <td>7.460000</td>\n",
       "      <td>7.560000</td>\n",
       "      <td>16.560000</td>\n",
       "      <td>27.99000</td>\n",
       "      <td>15.070000</td>\n",
       "      <td>66.730000</td>\n",
       "    </tr>\n",
       "    <tr>\n",
       "      <th>25%</th>\n",
       "      <td>25.780000</td>\n",
       "      <td>2.250000</td>\n",
       "      <td>31.020000</td>\n",
       "      <td>0.100000</td>\n",
       "      <td>64.730000</td>\n",
       "      <td>9.010000</td>\n",
       "      <td>13.550000</td>\n",
       "      <td>19.110000</td>\n",
       "      <td>52.41000</td>\n",
       "      <td>15.520000</td>\n",
       "      <td>77.110000</td>\n",
       "    </tr>\n",
       "    <tr>\n",
       "      <th>50%</th>\n",
       "      <td>26.560000</td>\n",
       "      <td>2.600000</td>\n",
       "      <td>33.500000</td>\n",
       "      <td>0.120000</td>\n",
       "      <td>67.520000</td>\n",
       "      <td>12.620000</td>\n",
       "      <td>19.870000</td>\n",
       "      <td>20.810000</td>\n",
       "      <td>61.29000</td>\n",
       "      <td>17.480000</td>\n",
       "      <td>79.090000</td>\n",
       "    </tr>\n",
       "    <tr>\n",
       "      <th>75%</th>\n",
       "      <td>28.990000</td>\n",
       "      <td>3.120000</td>\n",
       "      <td>38.490000</td>\n",
       "      <td>0.160000</td>\n",
       "      <td>77.440000</td>\n",
       "      <td>14.420000</td>\n",
       "      <td>20.860000</td>\n",
       "      <td>22.780000</td>\n",
       "      <td>64.07000</td>\n",
       "      <td>26.470000</td>\n",
       "      <td>80.790000</td>\n",
       "    </tr>\n",
       "    <tr>\n",
       "      <th>max</th>\n",
       "      <td>33.820000</td>\n",
       "      <td>3.710000</td>\n",
       "      <td>44.500000</td>\n",
       "      <td>0.660000</td>\n",
       "      <td>84.790000</td>\n",
       "      <td>16.780000</td>\n",
       "      <td>24.270000</td>\n",
       "      <td>32.610000</td>\n",
       "      <td>66.80000</td>\n",
       "      <td>38.740000</td>\n",
       "      <td>83.270000</td>\n",
       "    </tr>\n",
       "  </tbody>\n",
       "</table>\n",
       "</div>"
      ],
      "text/plain": [
       "       PerFemEmploy  FertilityRate  RatioMaletoFemale  PerFemEmployers  \\\n",
       "count     25.000000      23.000000          25.000000        25.000000   \n",
       "mean      27.680800       2.711304          34.947600         0.196400   \n",
       "std        2.842613       0.526535           5.068672         0.179325   \n",
       "min       24.300000       2.060000          28.330000         0.090000   \n",
       "25%       25.780000       2.250000          31.020000         0.100000   \n",
       "50%       26.560000       2.600000          33.500000         0.120000   \n",
       "75%       28.990000       3.120000          38.490000         0.160000   \n",
       "max       33.820000       3.710000          44.500000         0.660000   \n",
       "\n",
       "       Agriculture   Industry   Services  Wage&Salaried  ContrFamWorkers  \\\n",
       "count    25.000000  25.000000  25.000000      25.000000         25.00000   \n",
       "mean     70.272400  12.018800  17.710400      21.965200         55.87240   \n",
       "std       7.795071   3.171068   4.709609       4.512734         12.38072   \n",
       "min      59.030000   7.460000   7.560000      16.560000         27.99000   \n",
       "25%      64.730000   9.010000  13.550000      19.110000         52.41000   \n",
       "50%      67.520000  12.620000  19.870000      20.810000         61.29000   \n",
       "75%      77.440000  14.420000  20.860000      22.780000         64.07000   \n",
       "max      84.790000  16.780000  24.270000      32.610000         66.80000   \n",
       "\n",
       "       OwnAccount  Vulnerable  \n",
       "count   25.000000   25.000000  \n",
       "mean    21.968800   77.840400  \n",
       "std      8.237512    4.674583  \n",
       "min     15.070000   66.730000  \n",
       "25%     15.520000   77.110000  \n",
       "50%     17.480000   79.090000  \n",
       "75%     26.470000   80.790000  \n",
       "max     38.740000   83.270000  "
      ]
     },
     "execution_count": 100,
     "metadata": {},
     "output_type": "execute_result"
    }
   ],
   "source": [
    "df.describe()"
   ]
  },
  {
   "cell_type": "code",
   "execution_count": 101,
   "metadata": {},
   "outputs": [
    {
     "name": "stdout",
     "output_type": "stream",
     "text": [
      "<class 'pandas.core.frame.DataFrame'>\n",
      "RangeIndex: 25 entries, 0 to 24\n",
      "Data columns (total 11 columns):\n",
      " #   Column             Non-Null Count  Dtype  \n",
      "---  ------             --------------  -----  \n",
      " 0   PerFemEmploy       25 non-null     float64\n",
      " 1   FertilityRate      23 non-null     float64\n",
      " 2   RatioMaletoFemale  25 non-null     float64\n",
      " 3   PerFemEmployers    25 non-null     float64\n",
      " 4   Agriculture        25 non-null     float64\n",
      " 5   Industry           25 non-null     float64\n",
      " 6   Services           25 non-null     float64\n",
      " 7   Wage&Salaried      25 non-null     float64\n",
      " 8   ContrFamWorkers    25 non-null     float64\n",
      " 9   OwnAccount         25 non-null     float64\n",
      " 10  Vulnerable         25 non-null     float64\n",
      "dtypes: float64(11)\n",
      "memory usage: 2.3 KB\n"
     ]
    }
   ],
   "source": [
    "df.info()"
   ]
  },
  {
   "cell_type": "markdown",
   "metadata": {},
   "source": [
    "# Reshape the Data\n"
   ]
  },
  {
   "cell_type": "code",
   "execution_count": 102,
   "metadata": {},
   "outputs": [],
   "source": [
    "X = df['Agriculture'].values\n",
    "Y = df['PerFemEmploy'].values"
   ]
  },
  {
   "cell_type": "markdown",
   "metadata": {},
   "source": [
    "# Women Working in Agriculture\n"
   ]
  },
  {
   "cell_type": "code",
   "execution_count": 103,
   "metadata": {},
   "outputs": [
    {
     "data": {
      "text/plain": [
       "array([84.79, 82.28, 81.19, 80.28, 79.52, 78.78, 77.44, 75.96, 74.28,\n",
       "       72.48, 70.49, 68.19, 67.52, 66.86, 66.25, 65.53, 65.32, 65.02,\n",
       "       64.73, 64.36, 63.86, 63.38, 59.84, 59.43, 59.03])"
      ]
     },
     "execution_count": 103,
     "metadata": {},
     "output_type": "execute_result"
    }
   ],
   "source": [
    "X"
   ]
  },
  {
   "cell_type": "markdown",
   "metadata": {},
   "source": [
    "# Employment Rate of Women\n"
   ]
  },
  {
   "cell_type": "code",
   "execution_count": 104,
   "metadata": {},
   "outputs": [
    {
     "data": {
      "text/plain": [
       "array([24.3 , 24.57, 24.82, 25.11, 25.38, 25.63, 25.78, 25.89, 25.96,\n",
       "       25.89, 25.83, 26.11, 26.56, 27.  , 27.22, 28.56, 28.72, 28.87,\n",
       "       28.99, 29.49, 29.96, 30.47, 33.44, 33.65, 33.82])"
      ]
     },
     "execution_count": 104,
     "metadata": {},
     "output_type": "execute_result"
    }
   ],
   "source": [
    "Y"
   ]
  },
  {
   "cell_type": "code",
   "execution_count": 105,
   "metadata": {},
   "outputs": [
    {
     "data": {
      "text/plain": [
       "array([[84.79],\n",
       "       [82.28],\n",
       "       [81.19],\n",
       "       [80.28],\n",
       "       [79.52],\n",
       "       [78.78],\n",
       "       [77.44],\n",
       "       [75.96],\n",
       "       [74.28],\n",
       "       [72.48],\n",
       "       [70.49],\n",
       "       [68.19],\n",
       "       [67.52],\n",
       "       [66.86],\n",
       "       [66.25],\n",
       "       [65.53],\n",
       "       [65.32],\n",
       "       [65.02],\n",
       "       [64.73],\n",
       "       [64.36],\n",
       "       [63.86],\n",
       "       [63.38],\n",
       "       [59.84],\n",
       "       [59.43],\n",
       "       [59.03]])"
      ]
     },
     "execution_count": 105,
     "metadata": {},
     "output_type": "execute_result"
    }
   ],
   "source": [
    "X = X.reshape(-1,1)\n",
    "X"
   ]
  },
  {
   "cell_type": "code",
   "execution_count": 106,
   "metadata": {},
   "outputs": [],
   "source": [
    "x_train, x_test, y_train, y_test = train_test_split(X, Y, train_size=.8, test_size=.2, random_state=100)"
   ]
  },
  {
   "cell_type": "markdown",
   "metadata": {},
   "source": [
    "# Validate Shape of test/train data\n"
   ]
  },
  {
   "cell_type": "code",
   "execution_count": 107,
   "metadata": {},
   "outputs": [
    {
     "name": "stdout",
     "output_type": "stream",
     "text": [
      "X-Train Shape [(20, 1)]\n"
     ]
    }
   ],
   "source": [
    "print(f'X-Train Shape [{x_train.shape}]')"
   ]
  },
  {
   "cell_type": "code",
   "execution_count": 108,
   "metadata": {},
   "outputs": [
    {
     "name": "stdout",
     "output_type": "stream",
     "text": [
      "Y-Train Shape [(20,)]\n"
     ]
    }
   ],
   "source": [
    "print(f'Y-Train Shape [{y_train.shape}]')"
   ]
  },
  {
   "cell_type": "code",
   "execution_count": 109,
   "metadata": {},
   "outputs": [
    {
     "name": "stdout",
     "output_type": "stream",
     "text": [
      "X-Test Shape [(5, 1)]\n"
     ]
    }
   ],
   "source": [
    "print(f'X-Test Shape [{x_test.shape}]')"
   ]
  },
  {
   "cell_type": "code",
   "execution_count": 110,
   "metadata": {},
   "outputs": [
    {
     "name": "stdout",
     "output_type": "stream",
     "text": [
      "Y-Test Shape [(20,)]\n"
     ]
    }
   ],
   "source": [
    "print(f'Y-Test Shape [{y_train.shape}]')"
   ]
  },
  {
   "cell_type": "markdown",
   "metadata": {},
   "source": [
    "# Plot Data\n"
   ]
  },
  {
   "cell_type": "code",
   "execution_count": 111,
   "metadata": {},
   "outputs": [
    {
     "data": {
      "text/plain": [
       "Text(0.5, 1.0, '25 Years of Female Employment')"
      ]
     },
     "execution_count": 111,
     "metadata": {},
     "output_type": "execute_result"
    },
    {
     "data": {
      "image/png": "[encoded data removed]",
      "text/plain": [
       "<Figure size 432x288 with 1 Axes>"
      ]
     },
     "metadata": {
      "needs_background": "light"
     },
     "output_type": "display_data"
    }
   ],
   "source": [
    "plt.scatter(x_train, y_train, color='red')\n",
    "plt.scatter(x_test, y_test, color='blue')\n",
    "plt.xlabel('% of Women Employed')\n",
    "plt.ylabel('% of Women In Agriculture')\n",
    "plt.title('25 Years of Female Employment')"
   ]
  },
  {
   "cell_type": "markdown",
   "metadata": {},
   "source": [
    "# Linear Regression\n"
   ]
  },
  {
   "cell_type": "code",
   "execution_count": 112,
   "metadata": {},
   "outputs": [],
   "source": [
    "lm = LinearRegression()\n",
    "lm.fit(x_train, y_train)\n",
    "y_predict = lm.predict(x_test)"
   ]
  },
  {
   "cell_type": "markdown",
   "metadata": {},
   "source": [
    "# Testing & Training Accuracy\n"
   ]
  },
  {
   "cell_type": "code",
   "execution_count": 113,
   "metadata": {},
   "outputs": [
    {
     "name": "stdout",
     "output_type": "stream",
     "text": [
      "Training Accuracy 81.42%\n",
      "Test Accuracy 62.63%\n"
     ]
    }
   ],
   "source": [
    "print(f'Training Accuracy {round(lm.score(x_train, y_train) * 100,2)}%')\n",
    "print(f'Test Accuracy {round(lm.score(x_test, y_test) * 100,2)}%')"
   ]
  },
  {
   "cell_type": "code",
   "execution_count": 114,
   "metadata": {},
   "outputs": [
    {
     "data": {
      "text/plain": [
       "Text(0.5, 1.0, \"25 Years of Women's Employment\")"
      ]
     },
     "execution_count": 114,
     "metadata": {},
     "output_type": "execute_result"
    },
    {
     "data": {
      "image/png": "[encoded data removed]",
      "text/plain": [
       "<Figure size 432x288 with 1 Axes>"
      ]
     },
     "metadata": {
      "needs_background": "light"
     },
     "output_type": "display_data"
    }
   ],
   "source": [
    "plt.scatter(x_train, y_train, color='red')\n",
    "plt.plot(x_test, y_predict)\n",
    "plt.xlabel('% of Female Employment')\n",
    "plt.ylabel('% of Women in Agriculture')\n",
    "plt.title('25 Years of Women\\'s Employment')"
   ]
  },
  {
   "cell_type": "markdown",
   "metadata": {},
   "source": [
    "# Conclusions\n",
    "\n",
    "## 1. As female employment grew roughly 25% in 25 years, there was only about a 10% decrease in agriculture jobs\n",
    "\n",
    "## 2. During the 15% increase of female employment (from 70% to 85%), women working in agriculture stayed fairly unchanged\n",
    "\n",
    "## 3. The number of women in agricultural jobs fell rapidly at first, but the rate seems to be slowing down.\n"
   ]
  }
 ],
 "metadata": {
  "interpreter": {
   "hash": "235297daf0e4ff0abddbf50be26cbe9f83cf832175bb959dd9e0837ebcbf1123"
  },
  "kernelspec": {
   "display_name": "Python 3.8.5 64-bit ('.venv': poetry)",
   "name": "python3"
  },
  "language_info": {
   "name": "python",
   "version": ""
  },
  "orig_nbformat": 4
 },
 "nbformat": 4,
 "nbformat_minor": 2
}